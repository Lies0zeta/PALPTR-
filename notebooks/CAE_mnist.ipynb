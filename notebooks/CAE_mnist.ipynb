{
 "cells": [
  {
   "cell_type": "code",
   "execution_count": 1,
   "metadata": {},
   "outputs": [],
   "source": [
    "import tensorflow as tf\n",
    "import numpy as np\n",
    "import matplotlib.pyplot as plt\n",
    "from tensorflow.keras import layers\n",
    "\n",
    "\n",
    "class Encoder(tf.keras.layers.Layer):\n",
    "    def __init__(self):\n",
    "        super(Encoder, self).__init__()\n",
    "        self.conv1 = tf.keras.layers.Conv2D(\n",
    "            filters=16, kernel_size=(3,3), \n",
    "            padding='same', activation=tf.nn.relu)\n",
    "        self.maxpool1 = tf.keras.layers.MaxPool2D(\n",
    "            pool_size=(2,2), strides=(2,2), \n",
    "            padding='same')\n",
    "        self.conv2 = tf.keras.layers.Conv2D(\n",
    "            filters=8, kernel_size=(3,3), \n",
    "            padding='same', activation=tf.nn.relu)\n",
    "        self.maxpool2 = tf.keras.layers.MaxPool2D(\n",
    "            pool_size=(2,2), strides=(2,2),\n",
    "            padding='same')\n",
    "        self.conv3 = tf.keras.layers.Conv2D(\n",
    "            filters=8, kernel_size=(3,3), \n",
    "            padding='same', activation=tf.nn.relu)\n",
    "        self.encoded = tf.keras.layers.MaxPool2D(\n",
    "            pool_size=(2,2), strides=(2,2), \n",
    "            padding='same')\n",
    "            \n",
    "    @tf.function\n",
    "    def call(self, input_features):\n",
    "        latent1 = self.conv1(input_features)\n",
    "        latent2 = self.maxpool1(latent1)\n",
    "        latent3 = self.conv2(latent2)\n",
    "        latent4 = self.maxpool2(latent3)\n",
    "        latent5 = self.conv3(latent4)\n",
    "        return self.encoded(latent5) \n",
    "  \n",
    "\n",
    "class Decoder(tf.keras.layers.Layer):\n",
    "    def __init__(self):\n",
    "        super(Decoder, self).__init__()\n",
    "        self.conv1 = tf.keras.layers.Conv2D(\n",
    "            filters=8, kernel_size=(3,3), \n",
    "            padding='same', activation=tf.nn.relu)\n",
    "        self.conv2 = tf.keras.layers.Conv2D(\n",
    "            filters=8, kernel_size=(3,3), \n",
    "            padding='same', activation=tf.nn.relu)\n",
    "        self.conv3 = tf.keras.layers.Conv2D(\n",
    "            filters=16, kernel_size=(3,3), \n",
    "            padding='same', activation=tf.nn.relu)\n",
    "        self.conv4 = tf.keras.layers.Conv2D(\n",
    "            filters=1, kernel_size=(3,3), \n",
    "            padding='same', activation=None)\n",
    "            \n",
    "    @tf.function\n",
    "    def call(self, code):\n",
    "        latent6 = tf.image.resize(code, size=(7,7), method=tf.image.ResizeMethod.NEAREST_NEIGHBOR)\n",
    "        latent7 =  self.conv1(latent6) \n",
    "        latent8 = tf.image.resize(latent7, size=(14,14), method=tf.image.ResizeMethod.NEAREST_NEIGHBOR)\n",
    "        latent9 = self.conv2(latent8)\n",
    "        latent10 = tf.image.resize(latent9, size=(28,28), method=tf.image.ResizeMethod.NEAREST_NEIGHBOR)\n",
    "        latent11 = self.conv3(latent10)\n",
    "        logits = self.conv4(latent11)\n",
    "        return logits\n",
    "\n",
    "class Autoencoder(tf.keras.Model):\n",
    "    def __init__(self):\n",
    "        super(Autoencoder, self).__init__()\n",
    "        self.encoder = Encoder()\n",
    "        self.decoder = Decoder()\n",
    "    \n",
    "    @tf.function\n",
    "    def call(self, input_features):\n",
    "        code = self.encoder(input_features)\n",
    "        logits = self.decoder(code)\n",
    "        return logits\n",
    "    \n",
    "    def reconstruct(self, input_features):\n",
    "        code = self.encoder(input_features)\n",
    "        logits = self.decoder(code)\n",
    "        return tf.nn.sigmoid(logits)\n",
    "\n",
    "def reconstruction_loss(y_actual, y_predicted):\n",
    "    return tf.nn.sigmoid_cross_entropy_with_logits(labels=y_actual, logits=y_predicted)\n",
    "    \n",
    "    \n",
    "cae = Autoencoder()\n",
    "optimizer = tf.optimizers.Adam(learning_rate=1e-3)\n",
    "cae.compile(optimizer, loss=reconstruction_loss)"
   ]
  },
  {
   "cell_type": "code",
   "execution_count": 2,
   "metadata": {},
   "outputs": [
    {
     "data": {
      "text/plain": [
       "<matplotlib.image.AxesImage at 0x1a48449f10>"
      ]
     },
     "execution_count": 2,
     "metadata": {},
     "output_type": "execute_result"
    },
    {
     "data": {
      "image/png": "[encoded data removed]",
      "text/plain": [
       "<Figure size 432x288 with 1 Axes>"
      ]
     },
     "metadata": {
      "needs_background": "light"
     },
     "output_type": "display_data"
    }
   ],
   "source": [
    "from sklearn.datasets import fetch_openml\n",
    "\n",
    "mnist = fetch_openml(\"mnist_784\", version=1)\n",
    "x_train = mnist.data.reshape(mnist.data.shape[0], 28, 28, 1).astype('float32')\n",
    "x_train /= 255.\n",
    "img = x_train[2]\n",
    "plt.imshow(img.reshape((28,28)), cmap='Greys_r')"
   ]
  },
  {
   "cell_type": "code",
   "execution_count": 3,
   "metadata": {},
   "outputs": [
    {
     "name": "stdout",
     "output_type": "stream",
     "text": [
      "Train on 70000 samples\n",
      "Epoch 1/20\n",
      "70000/70000 [==============================] - 82s 1ms/sample - loss: 0.2231\n",
      "Epoch 2/20\n",
      "70000/70000 [==============================] - 82s 1ms/sample - loss: 0.1369\n",
      "Epoch 3/20\n",
      "70000/70000 [==============================] - 81s 1ms/sample - loss: 0.1230\n",
      "Epoch 4/20\n",
      "70000/70000 [==============================] - 81s 1ms/sample - loss: 0.1160\n",
      "Epoch 5/20\n",
      "70000/70000 [==============================] - 80s 1ms/sample - loss: 0.1119\n",
      "Epoch 6/20\n",
      "70000/70000 [==============================] - 77s 1ms/sample - loss: 0.1091\n",
      "Epoch 7/20\n",
      "70000/70000 [==============================] - 77s 1ms/sample - loss: 0.1069\n",
      "Epoch 8/20\n",
      "70000/70000 [==============================] - 78s 1ms/sample - loss: 0.1052\n",
      "Epoch 9/20\n",
      "70000/70000 [==============================] - 77s 1ms/sample - loss: 0.1038\n",
      "Epoch 10/20\n",
      "70000/70000 [==============================] - 78s 1ms/sample - loss: 0.1025\n",
      "Epoch 11/20\n",
      "70000/70000 [==============================] - 78s 1ms/sample - loss: 0.1015\n",
      "Epoch 12/20\n",
      "70000/70000 [==============================] - 78s 1ms/sample - loss: 0.1006\n",
      "Epoch 13/20\n",
      "70000/70000 [==============================] - 77s 1ms/sample - loss: 0.0998\n",
      "Epoch 14/20\n",
      "70000/70000 [==============================] - 78s 1ms/sample - loss: 0.0991\n",
      "Epoch 15/20\n",
      "70000/70000 [==============================] - 77s 1ms/sample - loss: 0.0986\n",
      "Epoch 16/20\n",
      "70000/70000 [==============================] - 78s 1ms/sample - loss: 0.0981\n",
      "Epoch 17/20\n",
      "70000/70000 [==============================] - 78s 1ms/sample - loss: 0.0975\n",
      "Epoch 18/20\n",
      "70000/70000 [==============================] - 77s 1ms/sample - loss: 0.0972\n",
      "Epoch 19/20\n",
      "70000/70000 [==============================] - 77s 1ms/sample - loss: 0.0968\n",
      "Epoch 20/20\n",
      "70000/70000 [==============================] - 78s 1ms/sample - loss: 0.0965\n"
     ]
    },
    {
     "data": {
      "text/plain": [
       "<tensorflow.python.keras.callbacks.History at 0x1a483ff910>"
      ]
     },
     "execution_count": 3,
     "metadata": {},
     "output_type": "execute_result"
    }
   ],
   "source": [
    "cae.fit(x_train, x_train, epochs=20, batch_size=200, shuffle=True)"
   ]
  },
  {
   "cell_type": "code",
   "execution_count": 4,
   "metadata": {},
   "outputs": [
    {
     "data": {
      "image/png": "[encoded data removed]",
      "text/plain": [
       "<Figure size 1440x288 with 20 Axes>"
      ]
     },
     "metadata": {
      "needs_background": "light"
     },
     "output_type": "display_data"
    }
   ],
   "source": [
    "fig, axes = plt.subplots(nrows=2, ncols=10, sharex=True, sharey=True, figsize=(20,4))\n",
    "in_imgs = x_train[:10]\n",
    "reconstructed = cae.reconstruct(in_imgs)\n",
    "\n",
    "for images, row in zip([in_imgs, reconstructed.numpy()], axes):\n",
    "    for img, ax in zip(images, row):\n",
    "        ax.imshow(img.reshape((28, 28)), cmap='Greys_r')\n",
    "        ax.get_xaxis().set_visible(False)\n",
    "        ax.get_yaxis().set_visible(False)\n",
    "\n",
    "\n",
    "fig.tight_layout(pad=0.1)"
   ]
  },
  {
   "cell_type": "code",
   "execution_count": 12,
   "metadata": {},
   "outputs": [],
   "source": [
    "from data_gen import *\n",
    "\n",
    "emb = cae.encoder(x_train)\n",
    "emb = tf.reshape(emb, [emb.shape[0],-1])\n",
    "Datasets.save_obj(emb.numpy(), 'MNIST_CAE')"
   ]
  }
 ],
 "metadata": {
  "kernelspec": {
   "display_name": "Python 3",
   "language": "python",
   "name": "python3"
  },
  "language_info": {
   "codemirror_mode": {
    "name": "ipython",
    "version": 3
   },
   "file_extension": ".py",
   "mimetype": "text/x-python",
   "name": "python",
   "nbconvert_exporter": "python",
   "pygments_lexer": "ipython3",
   "version": "3.8.5"
  }
 },
 "nbformat": 4,
 "nbformat_minor": 2
}
